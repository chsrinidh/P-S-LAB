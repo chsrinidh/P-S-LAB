{
  "cells": [
    {
      "cell_type": "markdown",
      "metadata": {
        "id": "view-in-github",
        "colab_type": "text"
      },
      "source": [
        "<a href=\"https://colab.research.google.com/github/chsrinidh/P-S-LAB/blob/main/P%26S_LAB_2025_WEEK_1.ipynb\" target=\"_parent\"><img src=\"https://colab.research.google.com/assets/colab-badge.svg\" alt=\"Open In Colab\"/></a>"
      ]
    },
    {
      "cell_type": "code",
      "execution_count": 1,
      "id": "118019a4",
      "metadata": {
        "id": "118019a4"
      },
      "outputs": [],
      "source": [
        "import numpy as np\n",
        "import pandas as pd"
      ]
    },
    {
      "cell_type": "code",
      "execution_count": 2,
      "id": "71ab5ae2",
      "metadata": {
        "id": "71ab5ae2",
        "outputId": "b8f6375f-dc9e-4c18-95a1-661e2c633379",
        "colab": {
          "base_uri": "https://localhost:8080/"
        }
      },
      "outputs": [
        {
          "output_type": "stream",
          "name": "stdout",
          "text": [
            "[ 1  2 34  6 32 14 65  7]\n"
          ]
        }
      ],
      "source": [
        "a=[1,2,34,6,32,14,65,7]\n",
        "arr=np.array(a)\n",
        "print(arr)"
      ]
    },
    {
      "cell_type": "code",
      "execution_count": 3,
      "id": "dcbf9182",
      "metadata": {
        "id": "dcbf9182",
        "outputId": "77b3f270-4758-47d6-df52-28b3dbc48118",
        "colab": {
          "base_uri": "https://localhost:8080/"
        }
      },
      "outputs": [
        {
          "output_type": "stream",
          "name": "stdout",
          "text": [
            "[ 1  2 34  6 32 14 65  7]\n",
            "1\n",
            "34\n"
          ]
        }
      ],
      "source": [
        "arr=np.array([1,2,34,6,32,14,65,7])\n",
        "print(arr)\n",
        "print(arr[0])\n",
        "print(arr[2])"
      ]
    },
    {
      "cell_type": "code",
      "execution_count": 4,
      "id": "81d7072b",
      "metadata": {
        "id": "81d7072b",
        "outputId": "7f636d11-6070-4d73-dad9-140f5c38d748",
        "colab": {
          "base_uri": "https://localhost:8080/"
        }
      },
      "outputs": [
        {
          "output_type": "stream",
          "name": "stdout",
          "text": [
            "[[1 2 3 4]\n",
            " [4 2 3 6]]\n"
          ]
        }
      ],
      "source": [
        "aa=[[1,2,3,4],[4,2,3,6]]\n",
        "A=np.array(aa)\n",
        "print(A)"
      ]
    },
    {
      "cell_type": "code",
      "execution_count": 5,
      "id": "ad744751",
      "metadata": {
        "id": "ad744751",
        "outputId": "5de87bf1-8de9-49e8-919b-fd411746bdf5",
        "colab": {
          "base_uri": "https://localhost:8080/"
        }
      },
      "outputs": [
        {
          "output_type": "stream",
          "name": "stdout",
          "text": [
            "[[1 2 3 4]\n",
            " [4 2 3 6]]\n"
          ]
        }
      ],
      "source": [
        "A=np.array([[1,2,3,4],[4,2,3,6]])\n",
        "print(A)"
      ]
    },
    {
      "cell_type": "code",
      "execution_count": 6,
      "id": "4103dfff",
      "metadata": {
        "id": "4103dfff",
        "outputId": "19e3b66a-cc72-485c-b243-b4a579aaf541",
        "colab": {
          "base_uri": "https://localhost:8080/"
        }
      },
      "outputs": [
        {
          "output_type": "stream",
          "name": "stdout",
          "text": [
            "<class 'numpy.ndarray'>\n",
            "<class 'numpy.ndarray'>\n"
          ]
        },
        {
          "output_type": "execute_result",
          "data": {
            "text/plain": [
              "2"
            ]
          },
          "metadata": {},
          "execution_count": 6
        }
      ],
      "source": [
        "print(type(A))\n",
        "print(type(arr))\n",
        "np.ndim(arr)\n",
        "np.ndim(A)"
      ]
    },
    {
      "cell_type": "code",
      "execution_count": 7,
      "id": "cfe90596",
      "metadata": {
        "id": "cfe90596",
        "outputId": "f2442782-5837-4cf2-c0ce-079b7b42ca72",
        "colab": {
          "base_uri": "https://localhost:8080/"
        }
      },
      "outputs": [
        {
          "output_type": "stream",
          "name": "stdout",
          "text": [
            "8\n",
            "8\n",
            "(8,)\n",
            "(2, 4)\n"
          ]
        }
      ],
      "source": [
        "print(np.size(arr))\n",
        "print(np.size(A))\n",
        "print(np.shape(arr))\n",
        "print(np.shape(A))"
      ]
    },
    {
      "cell_type": "code",
      "execution_count": 8,
      "id": "0dc0f428",
      "metadata": {
        "id": "0dc0f428",
        "outputId": "89e0c48d-74e7-48ef-ec1c-2ae8b8224e4a",
        "colab": {
          "base_uri": "https://localhost:8080/"
        }
      },
      "outputs": [
        {
          "output_type": "stream",
          "name": "stdout",
          "text": [
            "[[1 2 3]\n",
            " [3 4 5]\n",
            " [4 5 6]]\n"
          ]
        }
      ],
      "source": [
        "A=np.array([[1,2,3],[3,4,5],[4,5,6]])\n",
        "print(A)"
      ]
    },
    {
      "cell_type": "code",
      "execution_count": 9,
      "id": "cb34c94f",
      "metadata": {
        "id": "cb34c94f",
        "outputId": "b611d084-3cc2-4396-8697-1d5167efb0a6",
        "colab": {
          "base_uri": "https://localhost:8080/"
        }
      },
      "outputs": [
        {
          "output_type": "stream",
          "name": "stdout",
          "text": [
            "[1 2 3]\n",
            "[3 4 5]\n",
            "[4 5 6]\n",
            "[1 3 4]\n",
            "[2 4 5]\n",
            "[3 5 6]\n",
            "5\n"
          ]
        }
      ],
      "source": [
        "print(A[0,:])\n",
        "print(A[1,:])\n",
        "print(A[2,:])\n",
        "print(A[:,0])\n",
        "print(A[:,1])\n",
        "print(A[:,2])\n",
        "print(A[2,1])"
      ]
    },
    {
      "cell_type": "code",
      "execution_count": 10,
      "id": "6c34fa16",
      "metadata": {
        "id": "6c34fa16",
        "outputId": "557bc23f-863a-406a-9e20-a28e82c0f154",
        "colab": {
          "base_uri": "https://localhost:8080/"
        }
      },
      "outputs": [
        {
          "output_type": "stream",
          "name": "stdout",
          "text": [
            "            State     Capital  Literacy %  Avg High Temp(c)\n",
            "0  Andhra Pradesh   Hyderabad          89                33\n",
            "1     Maharashtra      Mumbai          77                30\n",
            "2       Karnataka   Bengaluru          82                29\n",
            "3          Kerala  Trivandrum          97                31\n",
            "4      Tamil Nadu     Chennai          85                32\n"
          ]
        }
      ],
      "source": [
        "Dataset={\n",
        "    'State': ['Andhra Pradesh', 'Maharashtra', 'Karnataka', 'Kerala', 'Tamil Nadu'],\n",
        "    'Capital': ['Hyderabad', 'Mumbai', 'Bengaluru', 'Trivandrum', 'Chennai'],\n",
        "    'Literacy %': [89, 77, 82, 97,85],\n",
        "    'Avg High Temp(c)': [33, 30, 29, 31, 32 ]}\n",
        "df = pd.DataFrame(Dataset)\n",
        "print(df)"
      ]
    },
    {
      "cell_type": "code",
      "execution_count": 11,
      "id": "676c28d3",
      "metadata": {
        "id": "676c28d3",
        "outputId": "2d77b6e2-138c-4b7d-bfa0-c69e78301d74",
        "colab": {
          "base_uri": "https://localhost:8080/"
        }
      },
      "outputs": [
        {
          "output_type": "stream",
          "name": "stdout",
          "text": [
            "            State    Capital  Literacy %  Avg High Temp(c)\n",
            "0  Andhra Pradesh  Hyderabad          89                33\n",
            "1     Maharashtra     Mumbai          77                30\n",
            "        State     Capital  Literacy %  Avg High Temp(c)\n",
            "2   Karnataka   Bengaluru          82                29\n",
            "3      Kerala  Trivandrum          97                31\n",
            "4  Tamil Nadu     Chennai          85                32\n",
            "State               object\n",
            "Capital             object\n",
            "Literacy %           int64\n",
            "Avg High Temp(c)     int64\n",
            "dtype: object\n"
          ]
        }
      ],
      "source": [
        "print(df.head(2))\n",
        "print(df.tail(3))\n",
        "print(df.dtypes)"
      ]
    },
    {
      "cell_type": "code",
      "execution_count": 12,
      "id": "940114dc",
      "metadata": {
        "id": "940114dc",
        "outputId": "60862af4-65cf-4dfd-e1c5-041873ce0192",
        "colab": {
          "base_uri": "https://localhost:8080/"
        }
      },
      "outputs": [
        {
          "output_type": "stream",
          "name": "stdout",
          "text": [
            "            State     Capital  Literacy %  Avg High Temp(c)\n",
            "3          Kerala  Trivandrum          97                31\n",
            "0  Andhra Pradesh   Hyderabad          89                33\n",
            "4      Tamil Nadu     Chennai          85                32\n",
            "2       Karnataka   Bengaluru          82                29\n",
            "1     Maharashtra      Mumbai          77                30\n",
            "      Capital\n",
            "0   Hyderabad\n",
            "1      Mumbai\n",
            "2   Bengaluru\n",
            "3  Trivandrum\n",
            "4     Chennai\n",
            "            State     Capital\n",
            "0  Andhra Pradesh   Hyderabad\n",
            "1     Maharashtra      Mumbai\n",
            "2       Karnataka   Bengaluru\n",
            "3          Kerala  Trivandrum\n",
            "4      Tamil Nadu     Chennai\n",
            "State               Karnataka\n",
            "Capital             Bengaluru\n",
            "Literacy %                 82\n",
            "Avg High Temp(c)           29\n",
            "Name: 2, dtype: object\n",
            "State               Karnataka\n",
            "Capital             Bengaluru\n",
            "Literacy %                 82\n",
            "Avg High Temp(c)           29\n",
            "Name: 2, dtype: object\n"
          ]
        }
      ],
      "source": [
        "print(df.sort_values('Literacy %', ascending=False))\n",
        "print(df[['Capital']])\n",
        "print(df[['State', 'Capital']])\n",
        "print(df.loc[2])\n",
        "print(df.iloc[2])"
      ]
    },
    {
      "cell_type": "code",
      "execution_count": 13,
      "id": "b953388c",
      "metadata": {
        "id": "b953388c",
        "outputId": "97aea49a-16df-45b9-e0af-a67bbff1057c",
        "colab": {
          "base_uri": "https://localhost:8080/"
        }
      },
      "outputs": [
        {
          "output_type": "stream",
          "name": "stdout",
          "text": [
            "    Distance\n",
            "0         15\n",
            "1         13\n",
            "2         16\n",
            "3         16\n",
            "4         15\n",
            "5         16\n",
            "6         17\n",
            "7         14\n",
            "8         15\n",
            "9         16\n",
            "10        16\n",
            "11        17\n",
            "12        14\n",
            "13        17\n",
            "14        17\n",
            "15        16\n",
            "16        14\n",
            "17        15\n",
            "18        16\n",
            "19        17\n",
            "20        14\n",
            "21        16\n",
            "22        15\n",
            "23        17\n",
            "24        13\n",
            "The number of elements in the column is = 25\n"
          ]
        }
      ],
      "source": [
        "a={'Distance':[15, 13, 16, 16, 15, 16, 17, 14, 15, 16, 16,17, 14, 17, 17, 16, 14, 15, 16, 17, 14, 16, 15, 17, 13]}\n",
        "df=pd.DataFrame(a)\n",
        "print(df)\n",
        "print('The number of elements in the column is =',df['Distance'].size)"
      ]
    },
    {
      "cell_type": "code",
      "execution_count": 14,
      "id": "650a8477",
      "metadata": {
        "id": "650a8477",
        "outputId": "af08a88c-c3cc-4a6a-9296-91855c6fce60",
        "colab": {
          "base_uri": "https://localhost:8080/"
        }
      },
      "outputs": [
        {
          "output_type": "stream",
          "name": "stdout",
          "text": [
            "col_0     Frequency\n",
            "Distance           \n",
            "13                2\n",
            "14                4\n",
            "15                5\n",
            "16                8\n",
            "17                6\n",
            "25\n",
            "col_0     Frequency  Relative_Frequencies  Percentage\n",
            "Distance                                             \n",
            "13                2                  0.08         8.0\n",
            "14                4                  0.16        16.0\n",
            "15                5                  0.20        20.0\n",
            "16                8                  0.32        32.0\n",
            "17                6                  0.24        24.0\n",
            "col_0     Frequency  Relative_Frequencies  Percentage\n",
            "Distance                                             \n",
            "13              2.0                  0.08         8.0\n",
            "14              4.0                  0.16        16.0\n",
            "15              5.0                  0.20        20.0\n",
            "16              8.0                  0.32        32.0\n",
            "17              6.0                  0.24        24.0\n",
            "Total          25.0                  1.00       100.0\n"
          ]
        }
      ],
      "source": [
        "df2=pd.crosstab(index=df['Distance'],columns='Frequency')\n",
        "print(df2)\n",
        "print(df2['Frequency'].sum())\n",
        "df2['Relative_Frequencies']=df2['Frequency']/df2['Frequency'].sum()\n",
        "df2['Percentage']=df2['Frequency']/df2['Frequency'].sum()*100\n",
        "print(df2)\n",
        "df2.loc['Total']=df2.sum()\n",
        "print(df2)"
      ]
    },
    {
      "cell_type": "code",
      "execution_count": 15,
      "id": "74ebe987",
      "metadata": {
        "id": "74ebe987",
        "outputId": "a637fc0d-3352-438b-fcac-cf84a8e829cb",
        "colab": {
          "base_uri": "https://localhost:8080/"
        }
      },
      "outputs": [
        {
          "output_type": "stream",
          "name": "stdout",
          "text": [
            "    Score Class Intervals\n",
            "0     328  [300.0, 350.0)\n",
            "1     470  [450.0, 500.0)\n",
            "2     405  [400.0, 450.0)\n",
            "3     375  [350.0, 400.0)\n",
            "4     298  [250.0, 300.0)\n",
            "5     326  [300.0, 350.0)\n",
            "6     276  [250.0, 300.0)\n",
            "7     362  [350.0, 400.0)\n",
            "8     410  [400.0, 450.0)\n",
            "9     255  [250.0, 300.0)\n",
            "10    391  [350.0, 400.0)\n",
            "11    370  [350.0, 400.0)\n",
            "12    455  [450.0, 500.0)\n",
            "13    229  [200.0, 250.0)\n",
            "14    300  [300.0, 350.0)\n",
            "15    183  [150.0, 200.0)\n",
            "16    283  [250.0, 300.0)\n",
            "17    366  [350.0, 400.0)\n",
            "18    400  [400.0, 450.0)\n",
            "19    495  [450.0, 500.0)\n",
            "20    215  [200.0, 250.0)\n",
            "21    157  [150.0, 200.0)\n",
            "22    374  [350.0, 400.0)\n",
            "23    306  [300.0, 350.0)\n",
            "24    280  [250.0, 300.0)\n",
            "25    409  [400.0, 450.0)\n",
            "26    321  [300.0, 350.0)\n",
            "27    269  [250.0, 300.0)\n",
            "28    398  [350.0, 400.0)\n",
            "29    200  [200.0, 250.0)\n",
            "col_0            Frequency\n",
            "Class Intervals           \n",
            "[150.0, 200.0)           2\n",
            "[200.0, 250.0)           3\n",
            "[250.0, 300.0)           6\n",
            "[300.0, 350.0)           5\n",
            "[350.0, 400.0)           7\n",
            "[400.0, 450.0)           4\n",
            "[450.0, 500.0)           3\n"
          ]
        }
      ],
      "source": [
        "data=[328, 470, 405, 375, 298, 326, 276, 362, 410, 255, 391, 370, 455, 229, 300, 183,\n",
        "      283, 366, 400, 495, 215, 157, 374, 306, 280, 409, 321, 269, 398, 200]\n",
        "diction={'Score':data}\n",
        "df=pd.DataFrame(diction)\n",
        "A=min(data)\n",
        "B=max(data)\n",
        "N=round((B-A)/50)\n",
        "bins=np.linspace(150,500,N+1)\n",
        "df['Class Intervals']=pd.cut(df['Score'],bins=bins,right=False)\n",
        "print(df)\n",
        "table2=pd.crosstab(index=df['Class Intervals'],columns='Frequency')\n",
        "print(table2)"
      ]
    }
  ],
  "metadata": {
    "colab": {
      "provenance": [],
      "include_colab_link": true
    },
    "language_info": {
      "name": "python"
    },
    "kernelspec": {
      "name": "python3",
      "display_name": "Python 3"
    }
  },
  "nbformat": 4,
  "nbformat_minor": 5
}