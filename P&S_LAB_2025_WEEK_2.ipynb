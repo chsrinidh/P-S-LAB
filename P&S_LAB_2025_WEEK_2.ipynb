{
  "nbformat": 4,
  "nbformat_minor": 0,
  "metadata": {
    "colab": {
      "provenance": [],
      "authorship_tag": "ABX9TyNXbos3dN0JtE7SMGAc91/u",
      "include_colab_link": true
    },
    "kernelspec": {
      "name": "python3",
      "display_name": "Python 3"
    },
    "language_info": {
      "name": "python"
    }
  },
  "cells": [
    {
      "cell_type": "markdown",
      "metadata": {
        "id": "view-in-github",
        "colab_type": "text"
      },
      "source": [
        "<a href=\"https://colab.research.google.com/github/chsrinidh/P-S-LAB/blob/main/P%26S_LAB_2025_WEEK_2.ipynb\" target=\"_parent\"><img src=\"https://colab.research.google.com/assets/colab-badge.svg\" alt=\"Open In Colab\"/></a>"
      ]
    },
    {
      "cell_type": "code",
      "execution_count": 1,
      "metadata": {
        "id": "C6cXaLVVSLV1"
      },
      "outputs": [],
      "source": [
        "import pandas as pd\n",
        "import numpy as np"
      ]
    },
    {
      "cell_type": "code",
      "source": [
        "data=[25,65,32,87,54,98,71,12]\n",
        "mean=sum(data)/len(data)\n",
        "print(mean)"
      ],
      "metadata": {
        "colab": {
          "base_uri": "https://localhost:8080/"
        },
        "id": "KtaLIXUOWNUE",
        "outputId": "0a45d4c0-a50e-451e-dac4-b388da621ca9"
      },
      "execution_count": 2,
      "outputs": [
        {
          "output_type": "stream",
          "name": "stdout",
          "text": [
            "55.5\n"
          ]
        }
      ]
    },
    {
      "cell_type": "code",
      "source": [
        "values=[23, 87, 15, 92, 41, 68]\n",
        "frequencies = [5,12,3,9,7,2]\n",
        "\n",
        "sum_fx=sum(f*x for f,x in zip(frequencies,values))\n",
        "sum_f=sum(frequencies)\n",
        "mean=sum_fx/sum_f\n",
        "print(mean)\n"
      ],
      "metadata": {
        "colab": {
          "base_uri": "https://localhost:8080/"
        },
        "id": "iYunXY-AWfSZ",
        "outputId": "f8f660a4-a413-440e-ec97-ee00eb072178"
      },
      "execution_count": 3,
      "outputs": [
        {
          "output_type": "stream",
          "name": "stdout",
          "text": [
            "64.60526315789474\n"
          ]
        }
      ]
    },
    {
      "cell_type": "code",
      "source": [
        "class_intervals = [(0, 15), (15, 25), (25, 40), (40, 55), (55, 70)]\n",
        "frequencies = [17, 23, 32, 25, 22, 11]\n",
        "\n",
        "midpoints=[(start+end)/2 for start,end in class_intervals]\n",
        "sum_fm=sum(f*m for f,m in zip(frequencies,midpoints))\n",
        "sum_f=sum(frequencies)\n",
        "mean=sum_fm/sum_f\n",
        "print(mean)"
      ],
      "metadata": {
        "colab": {
          "base_uri": "https://localhost:8080/"
        },
        "id": "YbgSAGVLXdMk",
        "outputId": "ff1bed3a-1dab-4f09-810b-3b6b857b2a4e"
      },
      "execution_count": 4,
      "outputs": [
        {
          "output_type": "stream",
          "name": "stdout",
          "text": [
            "32.23076923076923\n"
          ]
        }
      ]
    },
    {
      "cell_type": "code",
      "source": [
        "def calculate_variance(data):\n",
        "  mean=sum(data)/len(data)\n",
        "  variance=sum((x-mean)**2 for x in data)/len(data)\n",
        "  return variance\n",
        "\n",
        "data=[25,65,32,87,54,98,71,12]\n",
        "variance=calculate_variance(data)\n",
        "print(variance)"
      ],
      "metadata": {
        "colab": {
          "base_uri": "https://localhost:8080/"
        },
        "id": "McJYtcLGY2Id",
        "outputId": "dbb1a23c-524c-449b-df60-2e492ed0d208"
      },
      "execution_count": 5,
      "outputs": [
        {
          "output_type": "stream",
          "name": "stdout",
          "text": [
            "813.25\n"
          ]
        }
      ]
    },
    {
      "cell_type": "code",
      "source": [
        "Age=[11,12,13,17,18,21]\n",
        "frequency=[1,3,7,9,4,3]\n",
        "sum_fx=sum(f*x for f,x in zip(frequency,Age))\n",
        "sum_f=sum(frequency)\n",
        "mean=sum_fx/sum_f\n",
        "print(mean)"
      ],
      "metadata": {
        "colab": {
          "base_uri": "https://localhost:8080/"
        },
        "id": "RNJhJGnNZCor",
        "outputId": "e8ba08ac-a01f-4be4-8990-a7e9945440d0"
      },
      "execution_count": 6,
      "outputs": [
        {
          "output_type": "stream",
          "name": "stdout",
          "text": [
            "15.777777777777779\n"
          ]
        }
      ]
    },
    {
      "cell_type": "code",
      "source": [
        "class_intervals=[(0,10),(10,20),(20,30),(30,40),(40,50),(50,60)]\n",
        "frequencies=[2,3,4,1,2,6]\n",
        "midpoints=[(start+end)/2 for start,end in class_intervals]\n",
        "sum_fm=sum(f*m for f,m in zip(frequencies,midpoints))\n",
        "sum_f=sum(frequencies)\n",
        "mean=sum_fm/sum_f\n",
        "print(mean)"
      ],
      "metadata": {
        "colab": {
          "base_uri": "https://localhost:8080/"
        },
        "id": "Xtz38rq-ZTyx",
        "outputId": "a7589e8a-88c1-4796-a46e-e9df7213d5f7"
      },
      "execution_count": 7,
      "outputs": [
        {
          "output_type": "stream",
          "name": "stdout",
          "text": [
            "33.888888888888886\n"
          ]
        }
      ]
    },
    {
      "cell_type": "code",
      "source": [
        "dataset=[10,12,15,25,14,23,31,26]\n",
        "variance=calculate_variance(dataset)\n",
        "print(variance)"
      ],
      "metadata": {
        "colab": {
          "base_uri": "https://localhost:8080/"
        },
        "id": "jEogok0yZqkr",
        "outputId": "7f8391e0-ee44-494e-87d9-fa3d3a0ddffb"
      },
      "execution_count": 8,
      "outputs": [
        {
          "output_type": "stream",
          "name": "stdout",
          "text": [
            "51.75\n"
          ]
        }
      ]
    }
  ]
}